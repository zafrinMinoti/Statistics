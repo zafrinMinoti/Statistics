{
 "cells": [
  {
   "cell_type": "raw",
   "metadata": {},
   "source": [
    "Probability Exercises\n",
    "\n",
    "    Suppose two cards are drawn from a standard 52 card deck.\n",
    "\n",
    "    What's the probability that the first is a queen and the second is a king?\n",
    "    What's the probability that both cards are queens?\n",
    "    Suppose that before the second card was drawn, the first was inserted back into the deck and the deck reshuffled. What's the probability that both cards are queens?\n",
    "\n",
    "    A Store Manager wants to understand how his customers use different payment methods, and suspects that the size of the purchase is a major deciding factor. He organizes the table below.\n",
    "    \tCash \tDebit \tCredit\n",
    "    Under $20 \t400 \t150 \t150\n",
    "    $20 - $50 \t200 \t1200 \t800\n",
    "    Over $50 \t100 \t600 \t1400\n",
    "        Given that a customer spent over $50, what's the probability that the customer used a credit card?\n",
    "        Given that a customer paid in cash, what's the probability that the customer spent less than $20?\n",
    "        What's the probability that a customer spent under $20 using cash?\n",
    "\n",
    "    A Galvanize grad is looking for her first job! Given that she is freaked out, her chances of not getting an offer are 70%. Given that she isn't freaked out, her chances of not getting an offer are 30%. Suppose that the probability that she's freaked out is 80%. What's the probability that she gets an offer?\n"
   ]
  },
  {
   "cell_type": "raw",
   "metadata": {},
   "source": [
    "Google decides to do random drug tests for heroin on their employees. They know that 3% of their population uses heroin. The drug test has the following accuracy: The test correctly identifies 95% of the heroin users (sensitivity) and 90% of the non-users (specificity).\n",
    "    \tUses heroin \tDoesn't use heroin\n",
    "    Tests positive \t0.95 \t0.10\n",
    "    Tests negative \t0.05 \t0.90\n",
    "\n",
    "Alice gets tested and the test comes back positive. What is the probability that she uses heroin?"
   ]
  },
  {
   "cell_type": "code",
   "execution_count": 9,
   "metadata": {
    "collapsed": true
   },
   "outputs": [],
   "source": [
    "P_c = .3\n",
    "P_sencitivity = .95\n",
    "P_specitivity = .90\n",
    "\n",
    "P_pos_c = P_sencitivity\n",
    "P_neg_c = 1 - P_specitivity\n",
    "P_pos_c_post = P_c * P_pos_c\n",
    "P_neg_c_post = P_c * P_neg_c\n",
    "\n",
    "normalizing_factor = P_pos_c_post + P_neg_c_post\n",
    "\n",
    "P_c_pos = P_pos_c_post / normalizing_factor\n",
    "P_c_neg = P_neg_c_post / normalizing_factor\n"
   ]
  },
  {
   "cell_type": "code",
   "execution_count": 10,
   "metadata": {},
   "outputs": [
    {
     "data": {
      "text/plain": [
       "0.9047619047619049"
      ]
     },
     "execution_count": 10,
     "metadata": {},
     "output_type": "execute_result"
    }
   ],
   "source": [
    "def P_condition_given_positive(P_c, P_sen, P_spe):\n",
    "    P_pos_c = P_sencitivity\n",
    "    P_neg_c = 1 - P_specitivity\n",
    "    P_pos_c_post = P_c * P_pos_c\n",
    "    P_neg_c_post = P_c * P_neg_c\n",
    "\n",
    "    normalizing_factor = P_pos_c_post + P_neg_c_post\n",
    "\n",
    "    P_c_pos = P_pos_c_post / normalizing_factor\n",
    "    \n",
    "    return P_c_pos\n",
    "\n",
    "P_condition_given_positive(P_c=.3, P_sen=.95, P_spe=.9)"
   ]
  },
  {
   "cell_type": "raw",
   "metadata": {
    "collapsed": true
   },
   "source": [
    "The Birthday Problem. Suppose there are 23 people in a data science class, lined up in a single file line.\n",
    "Let A_i be the event that the i'th person doesn't have the same birthday as the j'th person for any j < i.\n",
    "Use the chain rule from probability to calculate the probability that at least 2 people share the same birthday."
   ]
  },
  {
   "cell_type": "code",
   "execution_count": 8,
   "metadata": {},
   "outputs": [
    {
     "name": "stdout",
     "output_type": "stream",
     "text": [
      "P(j<i for all i and j) 0.4927027656760144\n",
      "P(j=i at lease for one i and one j) 0.5072972343239857\n"
     ]
    }
   ],
   "source": [
    "# Probability of at least 2 people having the same birthday (P_atleast2eq) = \n",
    "# 1 - probability of no one having the same birthday (P_noeq)\n",
    "\n",
    "DAYS = 365\n",
    "students = 23\n",
    "P_noeq = None\n",
    "\n",
    "for student in range(students):\n",
    "    try:\n",
    "        P_noeq *= ((DAYS-student)/DAYS)\n",
    "    except:\n",
    "        P_noeq = ((DAYS-student)/DAYS)\n",
    "\n",
    "print('P(j<i for all i and j)', P_noeq)\n",
    "\n",
    "P_atleast2eq = 1 - P_noeq\n",
    "print('P(j=i at lease for one i and one j)', P_atleast2eq)"
   ]
  },
  {
   "cell_type": "code",
   "execution_count": null,
   "metadata": {
    "collapsed": true
   },
   "outputs": [],
   "source": []
  }
 ],
 "metadata": {
  "kernelspec": {
   "display_name": "Python 3",
   "language": "python",
   "name": "python3"
  },
  "language_info": {
   "codemirror_mode": {
    "name": "ipython",
    "version": 3
   },
   "file_extension": ".py",
   "mimetype": "text/x-python",
   "name": "python",
   "nbconvert_exporter": "python",
   "pygments_lexer": "ipython3",
   "version": "3.6.3"
  }
 },
 "nbformat": 4,
 "nbformat_minor": 2
}
